{
  "nbformat": 4,
  "nbformat_minor": 0,
  "metadata": {
    "colab": {
      "provenance": [],
      "collapsed_sections": [],
      "authorship_tag": "ABX9TyMyT3lxX70PiD52fRMBIn1Q",
      "include_colab_link": true
    },
    "kernelspec": {
      "name": "python3",
      "display_name": "Python 3"
    },
    "language_info": {
      "name": "python"
    }
  },
  "cells": [
    {
      "cell_type": "markdown",
      "metadata": {
        "id": "view-in-github",
        "colab_type": "text"
      },
      "source": [
        "<a href=\"https://colab.research.google.com/github/Anshika4049/Python-Exercises/blob/main/Calender_Exercise.ipynb\" target=\"_parent\"><img src=\"https://colab.research.google.com/assets/colab-badge.svg\" alt=\"Open In Colab\"/></a>"
      ]
    },
    {
      "cell_type": "code",
      "execution_count": null,
      "metadata": {
        "id": "lgALArFVfNol"
      },
      "outputs": [],
      "source": [
        "# Program to display calendar of the given month and year\n",
        "\n",
        "# importing calendar module\n",
        "import calendar\n",
        "\n",
        "yy = 2014  # year\n",
        "mm = 11    # month\n",
        "\n",
        "# display the calendar\n",
        "print(calendar.month(yy, mm))\n"
      ]
    },
    {
      "cell_type": "code",
      "source": [
        "# Program to display calendar of the given month and year by uesr at runtime\n",
        "\n",
        "# importing calendar module\n",
        "import calendar\n",
        "\n",
        "# To take month and year input from the user\n",
        "yy = int(input(\"Enter year: \"))\n",
        "mm = int(input(\"Enter month: \"))\n",
        "\n",
        "# display the calendar\n",
        "print(calendar.month(yy, mm))\n"
      ],
      "metadata": {
        "id": "_uN0kpQ-fRGI"
      },
      "execution_count": null,
      "outputs": []
    },
    {
      "cell_type": "code",
      "source": [
        "import calendar\n",
        "\n",
        "print(\"Enter Year: \", end=\"\")\n",
        "try:\n",
        "    yy = int(input())\n",
        "    print(\"\\nEnter Month Number (1-12): \", end=\"\")\n",
        "    try:\n",
        "        mm = int(input())\n",
        "        if mm>=1 and mm<=12:\n",
        "            print(\"\\n\", calendar.month(yy, mm))\n",
        "        else:\n",
        "            print(\"\\nInvalid Month Number!\")\n",
        "    except ValueError:\n",
        "        print(\"\\nInvalid Input!\")\n",
        "except ValueError:\n",
        "    print(\"\\nInvalid Input!\")"
      ],
      "metadata": {
        "id": "7Q92OkeufgBv"
      },
      "execution_count": null,
      "outputs": []
    },
    {
      "cell_type": "code",
      "source": [
        "# Display All Months (Whole Year) Calendar\n",
        "\n",
        "import calendar\n",
        "\n",
        "print(\"Enter Year: \")\n",
        "try:\n",
        "    yy = int(input())\n",
        "    print()\n",
        "    mm = 1\n",
        "    while mm<=12:\n",
        "        print(calendar.month(yy, mm))\n",
        "        mm = mm+1\n",
        "except ValueError:\n",
        "    print(\"\\nInvalid Input!\")"
      ],
      "metadata": {
        "id": "3hsvs4kpo4Tj"
      },
      "execution_count": null,
      "outputs": []
    },
    {
      "cell_type": "code",
      "source": [
        "# Check Leap Year\n",
        "\n",
        "print(\"Enter the Year: \")\n",
        "y = int(input())\n",
        "\n",
        "if y%4==0 and y%100!=0:\n",
        "    print(\"\\nIt is a Leap Year\")\n",
        "    \n",
        "elif y%400==0:\n",
        "    print(\"\\nIt is a Leap Year divided by 400\")\n",
        "else:\n",
        "    print(\"\\nIt is not a Leap Year\")"
      ],
      "metadata": {
        "id": "ouA7ZJv0qXHv"
      },
      "execution_count": null,
      "outputs": []
    },
    {
      "cell_type": "code",
      "source": [
        "# Check Leap Year and print calender of that year\n",
        "\n",
        "print(\"Enter the Year: \")\n",
        "y = int(input())\n",
        "\n",
        "if y%4==0 and y%100!=0:\n",
        "    print(\"\\nIt is a Leap Year\")\n",
        "    mm = 1\n",
        "    while mm<=12:\n",
        "        print(calendar.month(y, mm))\n",
        "        mm = mm+1\n",
        "    \n",
        "elif y%400==0:\n",
        "    print(\"\\nIt is a Leap Year divided by 400\")\n",
        "    mm = 1\n",
        "    while mm<=12:\n",
        "        print(calendar.month(y, mm))\n",
        "        mm = mm+1\n",
        "else:\n",
        "    print(\"\\nIt is not a Leap Year\")"
      ],
      "metadata": {
        "id": "S0F-AgzVyIGz"
      },
      "execution_count": null,
      "outputs": []
    },
    {
      "cell_type": "code",
      "source": [],
      "metadata": {
        "id": "9jfuxTRLyVi-"
      },
      "execution_count": null,
      "outputs": []
    },
    {
      "cell_type": "code",
      "source": [],
      "metadata": {
        "id": "ZD8vBhUOzn7H"
      },
      "execution_count": null,
      "outputs": []
    }
  ]
}